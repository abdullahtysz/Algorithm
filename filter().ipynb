{
  "nbformat": 4,
  "nbformat_minor": 0,
  "metadata": {
    "colab": {
      "name": "filter()",
      "provenance": [],
      "authorship_tag": "ABX9TyOP4Jr7ZbkDdB++UtGg++JP"
    },
    "kernelspec": {
      "name": "python3",
      "display_name": "Python 3"
    },
    "language_info": {
      "name": "python"
    }
  },
  "cells": [
    {
      "cell_type": "code",
      "metadata": {
        "colab": {
          "base_uri": "https://localhost:8080/"
        },
        "id": "-T0pgwjx9SCK",
        "outputId": "6e272e20-05ea-40ff-92ca-e837d64a9b3c"
      },
      "source": [
        "vowel_list = ['a', 'e', 'i', 'o', 'u']\n",
        "first_ten = ['a', 'b', 'c', 'd', 'e', 'f', 'g', 'h', 'i', 'j']\n",
        "  \n",
        "vowels = filter(lambda x: True if x in vowel_list else False, first_ten) \n",
        "\n",
        "print('Vowels are :', list(vowels))"
      ],
      "execution_count": 1,
      "outputs": [
        {
          "output_type": "stream",
          "text": [
            "Vowels are : ['a', 'e', 'i']\n"
          ],
          "name": "stdout"
        }
      ]
    },
    {
      "cell_type": "code",
      "metadata": {
        "colab": {
          "base_uri": "https://localhost:8080/"
        },
        "id": "ZAroJQ64BI-d",
        "outputId": "d0b38850-47fa-4e30-dd2f-db2134a038bb"
      },
      "source": [
        "number_list = [1, 2, 3, 4, 5, 6, 7, 8, 9, 10]\n",
        "\n",
        "result = list(filter(lambda x : x>=6, number_list))  \n",
        "print(result)\n",
        "\n"
      ],
      "execution_count": 5,
      "outputs": [
        {
          "output_type": "stream",
          "text": [
            "[6, 7, 8, 9, 10]\n"
          ],
          "name": "stdout"
        }
      ]
    },
    {
      "cell_type": "code",
      "metadata": {
        "colab": {
          "base_uri": "https://localhost:8080/"
        },
        "id": "6gdvD1e0BMr-",
        "outputId": "edb063ac-0bbe-47c9-aedb-ce2c4f3bb1ac"
      },
      "source": [
        "def modular_function(n):\n",
        "    return lambda x: x ** n\n",
        "    \n",
        "power_of_2 = modular_function(2)  # first sub-function derived from def\n",
        "power_of_3 = modular_function(3)  # second sub-function derived from def\n",
        "power_of_4 = modular_function(4)  # third sub-function derived from def\n",
        "\n",
        "print(power_of_2(2))  # 2 to the power of 2\n",
        "print(power_of_3(2))  # 2 to the power of 3\n",
        "print(power_of_4(2))  # 2 "
      ],
      "execution_count": 6,
      "outputs": [
        {
          "output_type": "stream",
          "text": [
            "4\n",
            "8\n",
            "16\n"
          ],
          "name": "stdout"
        }
      ]
    }
  ]
}