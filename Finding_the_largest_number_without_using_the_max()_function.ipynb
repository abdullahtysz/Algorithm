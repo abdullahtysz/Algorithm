{
  "nbformat": 4,
  "nbformat_minor": 0,
  "metadata": {
    "colab": {
      "name": "Finding the largest number without using the max() function",
      "provenance": [],
      "authorship_tag": "ABX9TyMLZbSH63ZWx3+bdxBFznUK"
    },
    "kernelspec": {
      "name": "python3",
      "display_name": "Python 3"
    },
    "language_info": {
      "name": "python"
    }
  },
  "cells": [
    {
      "cell_type": "code",
      "metadata": {
        "id": "QRvuhPQDiplD"
      },
      "source": [
        "#Write a python code that finds the largest number among the n numbers given by the user as input.\n",
        "\n",
        "#First, take n from the user, then take n numbers one by one and select-print the largest one.\n",
        "\n",
        "#It is forbidden to use max() function.\n",
        "\n",
        "\n",
        "kactane=int(input(\"kaç tane sayı girmek istiyorsunuz:\"))\n",
        "sayilar=[]\n",
        "while True:\n",
        "    if kactane==0:\n",
        "        break\n",
        "    else:\n",
        "        sayilar.append(int(input(str(kactane) + \". sayıyı giriniz:\")))\n",
        "        kactane=kactane-1\n",
        "\n",
        "    print(sayilar)\n",
        "    sıralı_sayılar = sorted(sayilar)\n",
        "    print(\"The Largest Number is:\",  + sıralı_sayılar[-1] )\n",
        "    "
      ],
      "execution_count": null,
      "outputs": []
    },
    {
      "cell_type": "code",
      "metadata": {
        "id": "n8NfbsiDda5y"
      },
      "source": [
        "39"
      ],
      "execution_count": null,
      "outputs": []
    },
    {
      "cell_type": "code",
      "metadata": {
        "id": "Y-OO72n9dbAZ"
      },
      "source": [
        "n = int(input()),"
      ],
      "execution_count": null,
      "outputs": []
    },
    {
      "cell_type": "code",
      "metadata": {
        "id": "p4vPd2vjdbDj"
      },
      "source": [
        ""
      ],
      "execution_count": null,
      "outputs": []
    },
    {
      "cell_type": "code",
      "metadata": {
        "id": "BS3PVpK1dbMW"
      },
      "source": [
        ""
      ],
      "execution_count": null,
      "outputs": []
    },
    {
      "cell_type": "code",
      "metadata": {
        "id": "XBaOeGtLdbO7"
      },
      "source": [
        ""
      ],
      "execution_count": null,
      "outputs": []
    }
  ]
}