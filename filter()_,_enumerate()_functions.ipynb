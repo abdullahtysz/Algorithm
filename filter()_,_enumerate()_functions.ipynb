{
  "nbformat": 4,
  "nbformat_minor": 0,
  "metadata": {
    "colab": {
      "name": "filter() , enumerate()",
      "provenance": [],
      "authorship_tag": "ABX9TyMlQi12t12PcVXSUroZ1zRs"
    },
    "kernelspec": {
      "name": "python3",
      "display_name": "Python 3"
    },
    "language_info": {
      "name": "python"
    }
  },
  "cells": [
    {
      "cell_type": "code",
      "metadata": {
        "id": "UJ2el_Z-_D1d"
      },
      "source": [
        "# filter(function,iterable)"
      ],
      "execution_count": null,
      "outputs": []
    },
    {
      "cell_type": "code",
      "metadata": {
        "colab": {
          "base_uri": "https://localhost:8080/"
        },
        "id": "gf3LOkfW_MiT",
        "outputId": "2ff9c40b-ed7c-4ed0-c48f-c17436acd477"
      },
      "source": [
        "listA = [\"susan\", \"tom\",False ,0,\"0\" ]\n",
        "filtered_list = filter(None,listA)\n",
        "print(\"The filtered elements are :  \" )\n",
        "for i in filtered_list:\n",
        "  print(i)"
      ],
      "execution_count": 1,
      "outputs": [
        {
          "output_type": "stream",
          "text": [
            "The filtered elements are :  \n",
            "susan\n",
            "tom\n",
            "0\n"
          ],
          "name": "stdout"
        }
      ]
    },
    {
      "cell_type": "code",
      "metadata": {
        "colab": {
          "base_uri": "https://localhost:8080/"
        },
        "id": "5x0mPyaI_9RO",
        "outputId": "92d907c4-693c-40fa-f0be-3a3734cccc49"
      },
      "source": [
        "listem = [None,\"0\",\"İstanbul\",()]\n",
        "filtered = filter(None,listem)\n",
        "filtered\n"
      ],
      "execution_count": 2,
      "outputs": [
        {
          "output_type": "execute_result",
          "data": {
            "text/plain": [
              "<filter at 0x7fa1d9760b10>"
            ]
          },
          "metadata": {
            "tags": []
          },
          "execution_count": 2
        }
      ]
    },
    {
      "cell_type": "code",
      "metadata": {
        "colab": {
          "base_uri": "https://localhost:8080/"
        },
        "id": "wGvC8sdFAnBl",
        "outputId": "58b4cc2e-0e7a-46be-a48d-36a0601e1f0c"
      },
      "source": [
        "print(*filtered)"
      ],
      "execution_count": 3,
      "outputs": [
        {
          "output_type": "stream",
          "text": [
            "0 İstanbul\n"
          ],
          "name": "stdout"
        }
      ]
    },
    {
      "cell_type": "code",
      "metadata": {
        "id": "WYKluEGiArN1"
      },
      "source": [
        "for i in filtered:\n",
        "  print(i) "
      ],
      "execution_count": 5,
      "outputs": []
    },
    {
      "cell_type": "code",
      "metadata": {
        "id": "FWa-zSXCA32W"
      },
      "source": [
        ""
      ],
      "execution_count": null,
      "outputs": []
    },
    {
      "cell_type": "code",
      "metadata": {
        "id": "V5j5Jwx9AyGD"
      },
      "source": [
        "# enumarate functions\n",
        "# syntax : enumarate(iterable, start = 0 )"
      ],
      "execution_count": 6,
      "outputs": []
    },
    {
      "cell_type": "code",
      "metadata": {
        "colab": {
          "base_uri": "https://localhost:8080/"
        },
        "id": "nTOuP7BZBOYo",
        "outputId": "bab66d2c-e886-457e-9130-2f0d8b220ca7"
      },
      "source": [
        "grocery = [\"bread\",\"water\",\"olive\"]\n",
        "enum_grocery = enumerate(grocery)\n",
        "print(type(enum_grocery))\n",
        "print(list(enum_grocery))\n",
        "enum_grocery = enumerate(grocery,10) # 10 is parameter.\n",
        "print(list(enum_grocery))"
      ],
      "execution_count": 10,
      "outputs": [
        {
          "output_type": "stream",
          "text": [
            "<class 'enumerate'>\n",
            "[(0, 'bread'), (1, 'water'), (2, 'olive')]\n",
            "[(10, 'bread'), (11, 'water'), (12, 'olive')]\n"
          ],
          "name": "stdout"
        }
      ]
    },
    {
      "cell_type": "code",
      "metadata": {
        "id": "HEl_QaQSBd6Q"
      },
      "source": [
        ""
      ],
      "execution_count": null,
      "outputs": []
    }
  ]
}